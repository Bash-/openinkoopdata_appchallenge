{
 "cells": [
  {
   "cell_type": "code",
   "execution_count": 5,
   "metadata": {},
   "outputs": [
    {
     "name": "stdout",
     "output_type": "stream",
     "text": [
      "shape: (44, 2)\n",
      "┌──────────────┬─────────────────┐\n",
      "│ publicatieId ┆ publicatieDatum │\n",
      "│ ---          ┆ ---             │\n",
      "│ str          ┆ date            │\n",
      "╞══════════════╪═════════════════╡\n",
      "│ 331084       ┆ 2024-03-31      │\n",
      "│ 331069       ┆ 2024-03-31      │\n",
      "│ 331041       ┆ 2024-03-31      │\n",
      "│ 331079       ┆ 2024-03-31      │\n",
      "│ 331077       ┆ 2024-03-31      │\n",
      "│ …            ┆ …               │\n",
      "│ 331053       ┆ 2024-03-31      │\n",
      "│ 331026       ┆ 2024-03-31      │\n",
      "│ 331093       ┆ 2024-03-31      │\n",
      "│ 331044       ┆ 2024-03-31      │\n",
      "│ 331016       ┆ 2024-03-31      │\n",
      "└──────────────┴─────────────────┘\n"
     ]
    }
   ],
   "source": [
    "import polars as pl\n",
    "df = pl.read_delta(\"../data_local/clean/publications\")\n",
    "print(df)"
   ]
  }
 ],
 "metadata": {
  "kernelspec": {
   "display_name": ".venv",
   "language": "python",
   "name": "python3"
  },
  "language_info": {
   "codemirror_mode": {
    "name": "ipython",
    "version": 3
   },
   "file_extension": ".py",
   "mimetype": "text/x-python",
   "name": "python",
   "nbconvert_exporter": "python",
   "pygments_lexer": "ipython3",
   "version": "3.11.0"
  }
 },
 "nbformat": 4,
 "nbformat_minor": 2
}
