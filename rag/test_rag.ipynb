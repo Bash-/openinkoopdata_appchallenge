{
 "cells": [
  {
   "cell_type": "code",
   "execution_count": 56,
   "metadata": {
    "collapsed": true
   },
   "outputs": [],
   "source": [
    "from dotenv import load_dotenv\n",
    "import os\n",
    "from langchain_community.document_loaders import PyPDFLoader\n",
    "\n",
    "from langchain.text_splitter import RecursiveCharacterTextSplitter\n",
    "from langchain.embeddings.openai import OpenAIEmbeddings\n",
    "from langchain.vectorstores import Chroma\n",
    "from langchain.prompts import ChatPromptTemplate\n",
    "from langchain_openai import ChatOpenAI\n",
    "\n",
    "_ = load_dotenv()"
   ]
  },
  {
   "cell_type": "code",
   "execution_count": 47,
   "outputs": [],
   "source": [
    "OPENAI_API_KEY = os.getenv('OPENAI_API_KEY')\n",
    "DOC_PATH = \"/Users/martijnbeeks/Downloads/TN459590 - EF29 Aankondiging gegunde opdracht - algemene richtlijn, standaardregeling 20240401142856.pdf\"\n",
    "CHROMA_PATH = \"/Users/martijnbeeks/Development/Personal/tendergpt/openinkoopdata_appchallenge/chroma\"\n",
    "\n",
    "loader = PyPDFLoader(DOC_PATH)\n",
    "pages = loader.load()"
   ],
   "metadata": {
    "collapsed": false
   }
  },
  {
   "cell_type": "code",
   "execution_count": 48,
   "outputs": [],
   "source": [
    "text_splitter = RecursiveCharacterTextSplitter(chunk_size=500, chunk_overlap=50)\n",
    "chunks = text_splitter.split_documents(pages)"
   ],
   "metadata": {
    "collapsed": false
   }
  },
  {
   "cell_type": "code",
   "execution_count": 49,
   "outputs": [],
   "source": [
    "embeddings = OpenAIEmbeddings(openai_api_key=OPENAI_API_KEY)"
   ],
   "metadata": {
    "collapsed": false
   }
  },
  {
   "cell_type": "code",
   "execution_count": 50,
   "outputs": [],
   "source": [
    "db_chroma = Chroma.from_documents(chunks, embeddings, persist_directory=CHROMA_PATH)"
   ],
   "metadata": {
    "collapsed": false
   }
  },
  {
   "cell_type": "code",
   "execution_count": 65,
   "outputs": [
    {
     "name": "stdout",
     "output_type": "stream",
     "text": [
      "De eisen van deze tender zijn dat de inschrijver moet voldoen aan de CO2-prestatieladder door het indienen van een kopie van het CO2-bewust Certificaat. Daarnaast moet de opdrachtnemer concrete maatregelen kunnen nemen om het beheer, onderhoud en schadeherstel van haltevoorzieningen te optimaliseren, waarbij altijd voldaan moet worden aan het minimale onderhoudsniveau zoals beschreven in het programma van eisen. Verder wordt er gezocht naar een opdrachtnemer die controle en monitoring kan uitvoeren. De waarde van de aanbesteding is geraamd op 3 069 818 EUR en de duur van het contract is van 15 april 2024 tot 14 april 2028, met de mogelijkheid tot verlenging van maximaal 2 keer met 2 jaar. De aanbesteding valt onder de Overeenkomst inzake overheidsopdrachten (GPA) en wordt niet gefinancierd uit EU-fondsen.\n"
     ]
    }
   ],
   "source": [
    "query = 'Wat zijn de eisen van deze tender?'\n",
    "docs_chroma = db_chroma.similarity_search_with_score(query, k=5)\n",
    "context_text = \"\\n\\n\".join([doc.page_content for doc, _score in docs_chroma])\n",
    "\n",
    "# you can use a prompt template\n",
    "PROMPT_TEMPLATE = \"\"\"\n",
    "Antwoord de vraag gebaseerd alleen op basis van de volgende context:\n",
    "{context}\n",
    "Beantwoord de vraag op basis van de bovenstaande context: {question}.\n",
    "Geef een gedetaileerd en concreet antwoord.\n",
    "\"\"\"\n",
    "\n",
    "prompt_template = ChatPromptTemplate.from_template(PROMPT_TEMPLATE)\n",
    "prompt = prompt_template.format(context=context_text, question=query)\n",
    "\n",
    "model = ChatOpenAI()\n",
    "response_text = model.predict(prompt)\n",
    "print(response_text)"
   ],
   "metadata": {
    "collapsed": false
   }
  },
  {
   "cell_type": "markdown",
   "source": [],
   "metadata": {
    "collapsed": false
   }
  }
 ],
 "metadata": {
  "kernelspec": {
   "display_name": "Python 3",
   "language": "python",
   "name": "python3"
  },
  "language_info": {
   "codemirror_mode": {
    "name": "ipython",
    "version": 2
   },
   "file_extension": ".py",
   "mimetype": "text/x-python",
   "name": "python",
   "nbconvert_exporter": "python",
   "pygments_lexer": "ipython2",
   "version": "2.7.6"
  }
 },
 "nbformat": 4,
 "nbformat_minor": 0
}
